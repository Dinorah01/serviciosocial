{
 "cells": [
  {
   "cell_type": "code",
   "execution_count": 1,
   "metadata": {},
   "outputs": [],
   "source": [
    "import psycopg2\n",
    "import pandas as pd\n",
    "import numpy as np"
   ]
  },
  {
   "cell_type": "code",
   "execution_count": 2,
   "metadata": {},
   "outputs": [],
   "source": [
    "#conexión a la base de datos\n",
    "hst = 'localhost'\n",
    "dbs = 'ProteccionCivil'\n",
    "usr = 'postgres'\n",
    "prt = '2432'\n",
    "pwd = 'pc'\n",
    "\n",
    "conexion = psycopg2.connect(dbname=dbs,user=usr,host=hst,password=pwd)\n",
    "cursor = conexion.cursor()"
   ]
  },
  {
   "cell_type": "code",
   "execution_count": null,
   "metadata": {},
   "outputs": [],
   "source": [
    "#imprime la versión de PostgreSQL\n",
    "print('PostgreSQL database version:')\n",
    "cursor.execute('SELECT version()')\n",
    "db_version = cursor.fetchone()\n",
    "print(db_version)"
   ]
  },
  {
   "cell_type": "code",
   "execution_count": null,
   "metadata": {},
   "outputs": [],
   "source": [
    "colnames = ['Espacio', 'Edificio', 'nivel', 'Uso', 'Categoria', 'Leyenda', 'Cantidad', 'Visible', 'ColorSeg', 'ColorCont', 'FormaGeo', 'Norma']\n",
    "df = pd.read_excel('C:\\\\Users\\\\Apoyo1\\Desktop\\\\SS-Dinorah\\\\01-Edificio.xlsx', encoding = 'sys.getfilesystemencoding()', skiprows = 12, header = None, names = colnames).fillna('NO')\n",
    "df.replace(' ', np.nan, inplace=True)\n",
    "df.dropna(how = 'all', inplace=True)\n",
    "print (df)"
   ]
  },
  {
   "cell_type": "code",
   "execution_count": null,
   "metadata": {},
   "outputs": [],
   "source": [
    "#id de EntidadDependencia\n",
    "query = 'SELECT * FROM \"EntidadDependencia\" WHERE \"idEntidadDependencia\" = 84'\n",
    "cursor.execute(query)\n",
    "lista = list(cursor.fetchall())\n",
    "\n",
    "diccionario = {'ID': [i[0] for i in lista],\n",
    "               'Zona': [i[1] for i in lista],\n",
    "               'N. Programa Interno': [i[2] for i in lista],\n",
    "               'Nombre': [i[3] for i in lista],\n",
    "               'Clasificacion': [i[4] for i in lista]}\n",
    "\n",
    "df = pd.DataFrame(diccionario)\n",
    "print (df)\n",
    "\n"
   ]
  },
  {
   "cell_type": "code",
   "execution_count": 9,
   "metadata": {},
   "outputs": [
    {
     "name": "stdout",
     "output_type": "stream",
     "text": [
      "   Espacio\n",
      "0    111.0\n"
     ]
    }
   ],
   "source": [
    "conedif = df.iloc[[0],[0]]\n",
    "print(str(conedif))\n",
    "#query = 'SELECT \"idEdificio\" FROM \"Edificio\" WHERE \"conedif\" = %s AND \"idEntidadDependencia\" = 84'\n",
    "#cursor.execute(query, (str(conedif)))\n",
    "#lista = list(cursor.fetchall())\n",
    "#print(lista)"
   ]
  },
  {
   "cell_type": "code",
   "execution_count": null,
   "metadata": {},
   "outputs": [],
   "source": []
  }
 ],
 "metadata": {
  "kernelspec": {
   "display_name": "Python 3",
   "language": "python",
   "name": "python3"
  },
  "language_info": {
   "codemirror_mode": {
    "name": "ipython",
    "version": 3
   },
   "file_extension": ".py",
   "mimetype": "text/x-python",
   "name": "python",
   "nbconvert_exporter": "python",
   "pygments_lexer": "ipython3",
   "version": "3.7.0"
  }
 },
 "nbformat": 4,
 "nbformat_minor": 2
}
