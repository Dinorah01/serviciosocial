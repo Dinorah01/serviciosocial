{
 "cells": [
  {
   "cell_type": "code",
   "execution_count": null,
   "metadata": {},
   "outputs": [],
   "source": [
    "import numpy as np"
   ]
  },
  {
   "cell_type": "code",
   "execution_count": null,
   "metadata": {},
   "outputs": [],
   "source": [
    "#ndarray.ndim the number of the dimensions of the array.\n",
    "#ndarray.shape the dimensions of the array (n,m), so this means that the lenght of the shape is ndim.\n",
    "#ndarray.size the total number of elements of the array. This is equal to the product of the elements of shape.\n",
    "#ndarray.dtype an object describing the type of the elements in the array.\n",
    "#ndarray.itemsize the size in bytes of each element of the array.\n",
    "#ndarray.data a the buffer containing the actual elements of the array."
   ]
  },
  {
   "cell_type": "code",
   "execution_count": null,
   "metadata": {},
   "outputs": [],
   "source": [
    "#Declare a numpy array and do operations\n",
    "a = np.array([1,2])\n",
    "b = np.array([3,4])\n",
    "c = a*b\n",
    "print (c)"
   ]
  },
  {
   "cell_type": "code",
   "execution_count": null,
   "metadata": {},
   "outputs": [],
   "source": [
    "a = np.arange(15).reshape(3,5)\n",
    "print(a)\n",
    "print('shape ' + str(a.shape))\n",
    "print('ndim ' + str(a.ndim))\n",
    "print('dtype ' + str(a.dtype))\n",
    "print('itemsize ' + str(a.itemsize))\n",
    "print('size ' + str(a.size))\n",
    "print('type ' + str(type(a)))\n",
    "\n",
    "b = np.array([6,7,8])\n",
    "print(b)\n",
    "print('type ' + str(type(b)))"
   ]
  },
  {
   "cell_type": "code",
   "execution_count": null,
   "metadata": {},
   "outputs": [],
   "source": [
    "#array transforms sequences of sequences into two-dimensional arrays, sequences of sequences of sequences into\n",
    "#three-dimensional arrays, and so on.\n",
    "b = np.array([(1.5,2,3),(4,5,6)])\n",
    "b"
   ]
  },
  {
   "cell_type": "code",
   "execution_count": null,
   "metadata": {},
   "outputs": [],
   "source": [
    "#The type of the array can also be explicitly specified at creation time:\n",
    "c = np.array([[1,2],[3,4]], dtype = complex)\n",
    "c"
   ]
  },
  {
   "cell_type": "code",
   "execution_count": null,
   "metadata": {},
   "outputs": [],
   "source": [
    "#The function zeros creates an array full of zeros\n",
    "print(np.zeros((3,4)))\n",
    "\n",
    "#The function ones creates an array full of ones\n",
    "print(np.ones( (2,3,4), dtype=np.int16 ) ) #2 arrays, rows=3, cols=4\n",
    "\n",
    "#The function empty creates an array whose initial content is random and depends on the state of the memory. \n",
    "#By default, the dtype of the created array is float64.\n",
    "print(np.empty((2,3)))"
   ]
  },
  {
   "cell_type": "code",
   "execution_count": null,
   "metadata": {},
   "outputs": [],
   "source": [
    "#To create sequences of numbers, NumPy provides a function analogous to range that returns arrays instead of lists\n",
    "print(np.arange(10,30,5)) #creates an array with numbers from 10 to 30, with an increment of 5.\n",
    "print(np.arange(0,2,0.3)) #creates an array with number from 0 to 2, incrementing 0.3\n",
    "print(np.arange(2,0,-0.1)) #the last number is exclusive"
   ]
  },
  {
   "cell_type": "code",
   "execution_count": null,
   "metadata": {},
   "outputs": [],
   "source": [
    "from numpy import pi\n",
    "print(np.linspace(0,2,9)) #9 numbers from 0 to 2\n",
    "x = np.linspace(0, 2*pi, 100) #useful to evaluate function at lots of points\n",
    "print(np.sin(x))\n",
    "#see also: array, zeros, zeros_like, ones, ones_like, empty, empty_like, arange, linspace, numpy,\n",
    "#random.rand, numpy.random.randn, fromfunction, fromfile"
   ]
  },
  {
   "cell_type": "code",
   "execution_count": null,
   "metadata": {},
   "outputs": [],
   "source": [
    "print(np.arange(10000))\n",
    "print(np.arange(10000).reshape(100,100))\n",
    "#print(np.set_printoptions(threshold=np.nan)) force NumPy to print the entire array"
   ]
  },
  {
   "cell_type": "code",
   "execution_count": null,
   "metadata": {},
   "outputs": [],
   "source": [
    "#Operations\n",
    "a = np.array([20,30,40,50])\n",
    "b = np.arange(4) #array from 0 to 3\n",
    "print(b)\n",
    "c = a-b\n",
    "c\n",
    "b**2\n",
    "10*np.sin(a)\n",
    "a<35"
   ]
  },
  {
   "cell_type": "code",
   "execution_count": null,
   "metadata": {},
   "outputs": [],
   "source": [
    "#Matrix operations\n",
    "A = np.array([[1,1],[0,1]])\n",
    "B = np.array([[2,0],[3,4]])\n",
    "print(A*B) #Element wise product\n",
    "print(A@B) #Matrix product\n",
    "print(A.dot(B)) #another matrix product"
   ]
  },
  {
   "cell_type": "code",
   "execution_count": null,
   "metadata": {},
   "outputs": [],
   "source": [
    "#Some operations, such as += and *=, act in place to modify an existing array rather than create a new one.\n",
    "a = np.ones((2,3), dtype = int)\n",
    "b = np.random.random((2,3))\n",
    "a\n",
    "b\n",
    "a *= 3\n",
    "b += a\n",
    "#a += b\n",
    "#When operating with arrays of different types, the type of the resulting array corresponds to the more general or precise\n",
    "#one (a behavior known as upcasting)."
   ]
  },
  {
   "cell_type": "code",
   "execution_count": null,
   "metadata": {},
   "outputs": [],
   "source": [
    "a = np.random.random((2,3))\n",
    "print(a)\n",
    "print(a.sum()) #la suma de todos los elementos de la matriz\n",
    "print(a.min()) #el mínimo\n",
    "print(a.max()) #el máximo\n",
    "\n",
    "#By default, these operations apply to the array as though it were a list of numbers, regardless of its shape. However,\n",
    "#by specifying the axis parameter you can apply an operation along the specified axis of an array:\n",
    "b = np.arange(12).reshape(3,4)\n",
    "print(b)\n",
    "print(b.sum(axis=0)) #sum of each column\n",
    "print(b.min(axis=1)) #min of each row\n",
    "print(b.cumsum(axis = 1)) #cumulative sum along each row\n",
    "print(b.cumsum(axis = 0))"
   ]
  },
  {
   "cell_type": "code",
   "execution_count": null,
   "metadata": {},
   "outputs": [],
   "source": [
    "#NumPy provides familiar mathematical functions such as sin, cos, and exp. In NumPy, these are called “universal\n",
    "#functions”(ufunc). Within NumPy, these functions operate elementwise on an array, producing an array as output.\n",
    "B = np.arange(3)\n",
    "print(B)\n",
    "print(np.exp(B))\n",
    "print(np.sqrt(B))\n",
    "C = np.array([2.,-1.,4.])\n",
    "print(C)\n",
    "print(np.add(B,C))\n",
    "#See also: all, any, apply_along_axis, argmax, argmin, argsort, average, bincount, ceil, clip, conj, corrcoef, cov, cross, \n",
    "#cumprod, cumsum, diff, dot, floor, inner, inv, lexsort, max, maximum, mean, median, min, minimum, nonzero, outer, prod,\n",
    "#re, round, sort, std, sum, trace, transpose,var, vdot, vectorize, where"
   ]
  },
  {
   "cell_type": "code",
   "execution_count": null,
   "metadata": {},
   "outputs": [],
   "source": [
    "#Indexing, Slicing and Iterating\n",
    "#One-dimensional arrays can be indexed, sliced and iterated over, much like lists and other Python sequences.\n",
    "a = np.arange(10)**3\n",
    "print(a)\n",
    "print(a[2])\n",
    "print(a[2:5])\n",
    "a[:6:2] = -1000 # equivalent to a[0:6:2] = -1000; from start to position 6, exclusive, set every 2nd element to -1000\n",
    "print(a)\n",
    "print(a[ : :-1]) #reversed a\n",
    "for i in a:\n",
    "    print(i**(1/3.))"
   ]
  },
  {
   "cell_type": "code",
   "execution_count": null,
   "metadata": {},
   "outputs": [],
   "source": []
  }
 ],
 "metadata": {
  "kernelspec": {
   "display_name": "Python 3",
   "language": "python",
   "name": "python3"
  },
  "language_info": {
   "codemirror_mode": {
    "name": "ipython",
    "version": 3
   },
   "file_extension": ".py",
   "mimetype": "text/x-python",
   "name": "python",
   "nbconvert_exporter": "python",
   "pygments_lexer": "ipython3",
   "version": "3.7.0"
  }
 },
 "nbformat": 4,
 "nbformat_minor": 2
}
